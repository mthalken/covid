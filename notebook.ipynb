    " '__path__',\n",
       " '__spec__',\n",
       " '__version__',\n",
       " '_parent_dir',\n",
       " 'os',\n",
       " 'warnings']"
      ]
     },
     "execution_count": 2,
     "metadata": {},
     "output_type": "execute_result"
    }
   ],
   "source": [
    "# Check Attributes of Biopython\n",
    "dir(Bio)"
   ]
  },
  {
   "cell_type": "code",
   "execution_count": null,
   "metadata": {},
   "outputs": [],
   "source": []
  },
  {
   "cell_type": "markdown",
   "metadata": {},
   "source": [
    "## 2. Understanding FASTA file format\n",
    "\n",
    "#### SEQUENCE SOURCE\n",
    "\n",
    "<a href=\"https://www.ncbi.nlm.nih.gov/nuccore/MN908947.3?report=fasta\"> **SARS-CoV-19 SEQUENCE FROM NCBI**<a>"
   ]
  },
  {
   "cell_type": "markdown",
   "metadata": {},
   "source": [
    "### GENETIC MATERIAL\n",
    "\n",
    "<div class=\"alert alert-block alert-info\" style=\"Font-size:16px\">\n",
    "\n",
    "**DNA** (Deoxy-Ribonucleic Acid) constitutes of 4 Bases **A T G C**<br>\n",
    "**RNA** (Ribonucleic Acid) is composed of **U** instead of **T**<br>\n",
    "    \n",
    "</div>"
   ]
  },
  {
   "cell_type": "markdown",
   "metadata": {},
   "source": [
    "### 2.1. FASTA Format"
   ]
  },
  {
   "cell_type": "code",
   "execution_count": null,
   "metadata": {},
   "outputs": [],
   "source": []
  },
  {
   "cell_type": "markdown",
   "metadata": {},
   "source": [
    "### FASTA File\n",
    "\n",
    "    \n",
    "**\\> Description_of_DNA_sequence**\n",
    "<br>\n",
    "ATGCTGCGAGACAGACAGACATACTATCATCTCAGACGCAG<br>\n",
    "ATGCTGCGAGACAGACAGACATACTATCATCTCAGACGCAG<br>\n"
   ]
  },
  {
   "cell_type": "code",
   "execution_count": null,
   "metadata": {},
   "outputs": [],
   "source": []
  },
  {
   "cell_type": "markdown",
   "metadata": {},
   "source": [
    "### 2.2. Reading from file"
   ]
  },
  {
   "cell_type": "code",
   "execution_count": 3,
   "metadata": {},
   "outputs": [
    {
     "data": {
      "text/plain": [
       "SeqRecord(seq=Seq('ATTAAAGGTTTATACCTTCCCAGGTAACAAACCAACCAACTTTCGATCTCTTGT...AAA', SingleLetterAlphabet()), id='MN908947.3', name='MN908947.3', description='MN908947.3 Severe acute respiratory syndrome coronavirus 2 isolate Wuhan-Hu-1, complete genome', dbxrefs=[])"
      ]
     },
     "execution_count": 3,
     "metadata": {},
     "output_type": "execute_result"
    }
   ],
   "source": [
    "# Loading FASTA file\n",
    "seq_file_read = SeqIO.read('Sequence_data/sequence.fasta', 'fasta')\n",
    "seq_file_read"
   ]
  },
  {
   "cell_type": "code",
   "execution_count": 4,
   "metadata": {},
   "outputs": [
    {
     "data": {
      "text/plain": [
       "Bio.SeqRecord.SeqRecord"
      ]
     },
     "execution_count": 4,
     "metadata": {},
     "output_type": "execute_result"
    }
   ],
   "source": [
    "type(seq_file_read)"
   ]
  },
  {
   "cell_type": "markdown",
   "metadata": {},
   "source": [
    "### 2.3 Sequence details"
   ]
  },
  {
   "cell_type": "code",
   "execution_count": 5,
   "metadata": {
    "scrolled": true
   },
   "outputs": [
    {
     "data": {
      "text/plain": [
       "'MN908947.3'"
      ]
     },
     "execution_count": 5,
     "metadata": {},
     "output_type": "execute_result"
    }
   ],
   "source": [
    "# list sequence details\n",
    "seq_file_read.id"
   ]
  },
  {
   "cell_type": "code",
   "execution_count": 8,
   "metadata": {},
   "outputs": [],
   "source": []
  },
  {
   "cell_type": "code",
   "execution_count": 9,
   "metadata": {},
   "outputs": [
    {
     "name": "stdout",
     "output_type": "stream",
     "text": [
      "ID: MN908947.3\n",
      "Name: MN908947.3\n",
      "Description: MN908947.3 Severe acute respiratory syndrome coronavirus 2 isolate Wuhan-Hu-1, complete genome\n",
      "Number of features: 0\n",
      "Seq('ATTAAAGGTTTATACCTTCCCAGGTAACAAACCAACCAACTTTCGATCTCTTGT...AAA', SingleLetterAlphabet())\n"
     ]
    }
   ],
   "source": [
    "# list sequence details\n",
    "for record in SeqIO.parse('Sequence_data/sequence.fasta', 'fasta'):\n",
    "    print(record)"
   ]
  },
  {
   "cell_type": "code",
   "execution_count": null,
   "metadata": {},
   "outputs": [],
   "source": []
  },
  {
   "cell_type": "code",
   "execution_count": 10,
   "metadata": {},
   "outputs": [
    {
     "data": {
      "text/plain": [
       "Seq('ATTAAAGGTTTATACCTTCCCAGGTAACAAACCAACCAACTTTCGATCTCTTGT...AAA', SingleLetterAlphabet())"
      ]
     },
     "execution_count": 10,
     "metadata": {},
     "output_type": "execute_result"
    }
   ],
   "source": [
    "# store sequence for later analysis\n",
    "seq_from_file = seq_file_read.seq\n",
    "seq_from_file"
   ]
  },
  {
   "cell_type": "code",
   "execution_count": null,
   "metadata": {},
   "outputs": [],
   "source": []
  },
  {
   "cell_type": "code",
   "execution_count": 12,
   "metadata": {},
   "outputs": [
    {
     "data": {
      "text/plain": [
       "29903"
      ]
     },
     "execution_count": 12,
     "metadata": {},
     "output_type": "execute_result"
    }
   ],
   "source": [
    "# length of sequence\n",
    "len(seq_from_file)"
   ]
  },
  {
   "cell_type": "code",
   "execution_count": 13,
   "metadata": {},
   "outputs": [
    {
     "data": {
      "text/plain": [
       "9241219.214400413"
      ]
     },
     "execution_count": 13,
     "metadata": {},
     "output_type": "execute_result"
    }
   ],
   "source": [
    "#molecular weight\n",
    "molecular_weight(seq_from_file)"
   ]
  },
  {
   "cell_type": "code",
   "execution_count": null,
   "metadata": {},
   "outputs": [],
   "source": []
  },
  {
   "cell_type": "markdown",
   "metadata": {},
   "source": [
    "## 3. Sequence manipulation using Biopython"
   ]
  },
  {
   "cell_type": "markdown",
   "metadata": {},
   "source": [
    "<div class=\"alert alert-block alert-warning\" style=\"Font-size:16px\">\n",
    "- indexing/slicing<br>\n",
    "- concatination<br>\n",
    "- codon search<br>\n",
    "- GC content<br>\n",
    "- complement<br>\n",
    "\n",
    "</div>"
   ]
  },
  {
   "cell_type": "markdown",
   "metadata": {},
   "source": [
    "### 3.1. Indexing / Slicing"
   ]
  },
  {
   "cell_type": "code",
   "execution_count": 14,
   "metadata": {},
   "outputs": [
    {
     "data": {
      "text/plain": [
       "Seq('ATTA', SingleLetterAlphabet())"
      ]
     },
     "execution_count": 14,
     "metadata": {},
     "output_type": "execute_result"
    }
   ],
   "source": [
    "# CODON\n",
    "seq_from_file[0:4]"
   ]
  },
  {
   "cell_type": "code",
   "execution_count": 15,
   "metadata": {},
   "outputs": [
    {
     "data": {
      "text/plain": [
       "Seq('ATTAAA', SingleLetterAlphabet())"
      ]
     },
     "execution_count": 15,
     "metadata": {},
     "output_type": "execute_result"
    }
   ],
   "source": [
    "seq_from_file[0:3] + seq_from_file[-3:]"
   ]
  },
  {
   "cell_type": "markdown",
   "metadata": {},
   "source": [
    "### 3.2. Concatination"
   ]
  },
  {
   "cell_type": "code",
   "execution_count": 17,
   "metadata": {},
   "outputs": [
    {
     "data": {
      "text/plain": [
       "Seq('ATTAAAAAAAA', SingleLetterAlphabet())"
      ]
     },
     "execution_count": 17,
     "metadata": {},
     "output_type": "execute_result"
    }
   ],
   "source": [
    "concat = seq_from_file[0:6] + seq_from_file[-5:]\n",
    "concat"
   ]
  },
  {
   "cell_type": "code",
   "execution_count": null,
   "metadata": {},
   "outputs": [],
   "source": []
  },
  {
   "cell_type": "markdown",
   "metadata": {},
   "source": [
    "### 3.3. Codon Search"
   ]
  },
  {
   "cell_type": "code",
   "execution_count": 18,
   "metadata": {},
   "outputs": [
    {
     "data": {
      "text/plain": [
       "54"
      ]
     },
     "execution_count": 18,
     "metadata": {},
     "output_type": "execute_result"
    }
   ],
   "source": [
    "seq_from_file.find('AGA')"
   ]
  },
  {
   "cell_type": "code",
   "execution_count": null,
   "metadata": {},
   "outputs": [],
   "source": []
  },
  {
   "cell_type": "markdown",
   "metadata": {},
   "source": [
    "### 3.4. GC Content"
   ]
  },
  {
   "cell_type": "code",
   "execution_count": 20,
   "metadata": {},
   "outputs": [
    {
     "data": {
      "text/plain": [
       "37.97277865097147"
      ]
     },
     "execution_count": 20,
     "metadata": {},
     "output_type": "execute_result"
    }
   ],
   "source": [
    "# LOGIC\n",
    "(seq_from_file.count('G') + seq_from_file.count('C')) / (len(seq_from_file)) * 100"
   ]
  },
  {
   "cell_type": "code",
   "execution_count": 21,
   "metadata": {},
   "outputs": [
    {
     "data": {
      "text/plain": [
       "37.97277865097148"
      ]
     },
     "execution_count": 21,
     "metadata": {},
     "output_type": "execute_result"
    }
   ],
   "source": [
    "#GC content using Biopython\n",
    "GC(seq_from_file)"
   ]
  },
  {
   "cell_type": "code",
   "execution_count": null,
   "metadata": {},
   "outputs": [],
   "source": []
  },
  {
   "cell_type": "markdown",
   "metadata": {},
   "source": [
    "### 3.5. Complement"
   ]
  },
  {
   "cell_type": "markdown",
   "metadata": {},
   "source": [
    "<div class=\"alert alert-block alert-info\" style=\"Font-size:16px\">\n",
    "\n",
    "In **DNA** <br>\n",
    "    **A** Bonds with **T** (DOUBLE BOND)<br>\n",
    "    **G** Bonds with **C** (TRIPLE BOND)<br>\n",
    "    \n",
    "</div>"
   ]
  },
  {
   "cell_type": "code",
   "execution_count": null,
   "metadata": {},
   "outputs": [],
   "source": []
  },
  {
   "cell_type": "code",
   "execution_count": 22,
   "metadata": {},
   "outputs": [
    {
     "data": {
      "text/plain": [
       "Seq('ATTAAAGGTTT', SingleLetterAlphabet())"
      ]
     },
     "execution_count": 22,
     "metadata": {},
     "output_type": "execute_result"
    }
   ],
   "source": [
    "seq_from_file[:11]"
   ]
  },
  {
   "cell_type": "code",
   "execution_count": 23,
   "metadata": {},
   "outputs": [
    {
     "data": {
      "text/plain": [
       "Seq('TAATTTCCAAA', SingleLetterAlphabet())"
      ]
     },
     "execution_count": 23,
     "metadata": {},
     "output_type": "execute_result"
    }
   ],
   "source": [
    "#complement\n",
    "seq_from_file[:11].complement()"
   ]
  },
  {
   "cell_type": "code",
   "execution_count": 24,
   "metadata": {},
   "outputs": [
    {
     "data": {
      "text/plain": [
       "Seq('AAACCTTTAAT', SingleLetterAlphabet())"
      ]
     },
     "execution_count": 24,
     "metadata": {},
     "output_type": "execute_result"
    }
   ],
   "source": [
    "#reverse complement\n",
    "seq_from_file[:11].reverse_complement()"
   ]
  },
  {
   "cell_type": "code",
   "execution_count": 26,
   "metadata": {},
   "outputs": [
    {
     "data": {
      "text/plain": [
       "Seq('TTTTTTTTTT', SingleLetterAlphabet())"
      ]
     },
     "execution_count": 26,
     "metadata": {},
     "output_type": "execute_result"
    }
   ],
   "source": [
    "seq_from_file[-10:].reverse_complement()"
   ]
  },
  {
   "cell_type": "code",
   "execution_count": null,
   "metadata": {},
   "outputs": [],
   "source": []
  },
  {
   "cell_type": "markdown",
   "metadata": {},
   "source": [
    "## 4. Transcription & Translation Studies\n",
    "\n",
    "<div class=\"alert alert-block alert-warning\" style=\"font-size:16px\">\n",
    "DNA > RNA = Transcription\n",
    "</div>\n",
    "<div class=\"alert alert-block alert-warning\" style=\"font-size:16px\">\n",
    "mRNA > amino acid (protein) = Translation\n",
    "</div>"
   ]
  },
  {
   "cell_type": "code",
   "execution_count": null,
   "metadata": {},
   "outputs": [],
   "source": []
  },
  {
   "cell_type": "markdown",
   "metadata": {},
   "source": [
    "### 4.1. Transcription"
   ]
  },
  {
   "cell_type": "code",
   "execution_count": 27,
   "metadata": {},
   "outputs": [
    {
     "data": {
      "text/plain": [
       "Seq('AUUAAAGGUU', RNAAlphabet())"
      ]
     },
     "execution_count": 27,
     "metadata": {},
     "output_type": "execute_result"
    }
   ],
   "source": [
    "#Transcribe\n",
    "mRNA = seq_from_file.transcribe()\n",
    "mRNA[:10]"
   ]
  },
  {
   "cell_type": "code",
   "execution_count": null,
   "metadata": {},
   "outputs": [],
   "source": []
  },
  {
   "cell_type": "code",
   "execution_count": 28,
   "metadata": {},
   "outputs": [
    {
     "data": {
      "text/plain": [
       "Seq('ATTAAAGGTTTATACCTTCCCAGGTAACAAACCAACCAACTTTCGATCTCTTGT...AAA', DNAAlphabet())"
      ]
     },
     "execution_count": 28,
     "metadata": {},
     "output_type": "execute_result"
    }
   ],
   "source": [
    "#Back transcribe\n",
    "mRNA.back_transcribe()"
   ]
  },
  {
   "cell_type": "code",
   "execution_count": null,
   "metadata": {},
   "outputs": [],
   "source": []
  },
  {
   "cell_type": "code",
   "execution_count": null,
   "metadata": {},
   "outputs": [],
   "source": []
  },
  {
   "cell_type": "markdown",
   "metadata": {},
   "source": [
    "### 4.2. Translation"
   ]
  },
  {
   "cell_type": "code",
   "execution_count": 29,
   "metadata": {},
   "outputs": [
    {
     "name": "stdout",
     "output_type": "stream",
     "text": [
      "Table 1 Standard, SGC0\n",
      "\n",
      "  |  T      |  C      |  A      |  G      |\n",
      "--+---------+---------+---------+---------+--\n",
      "T | TTT F   | TCT S   | TAT Y   | TGT C   | T\n",
      "T | TTC F   | TCC S   | TAC Y   | TGC C   | C\n",
      "T | TTA L   | TCA S   | TAA Stop| TGA Stop| A\n",
      "T | TTG L(s)| TCG S   | TAG Stop| TGG W   | G\n",
      "--+---------+---------+---------+---------+--\n",
      "C | CTT L   | CCT P   | CAT H   | CGT R   | T\n",
      "C | CTC L   | CCC P   | CAC H   | CGC R   | C\n",
      "C | CTA L   | CCA P   | CAA Q   | CGA R   | A\n",
      "C | CTG L(s)| CCG P   | CAG Q   | CGG R   | G\n",
      "--+---------+---------+---------+---------+--\n",
      "A | ATT I   | ACT T   | AAT N   | AGT S   | T\n",
      "A | ATC I   | ACC T   | AAC N   | AGC S   | C\n",
      "A | ATA I   | ACA T   | AAA K   | AGA R   | A\n",
      "A | ATG M(s)| ACG T   | AAG K   | AGG R   | G\n",
      "--+---------+---------+---------+---------+--\n",
      "G | GTT V   | GCT A   | GAT D   | GGT G   | T\n",
      "G | GTC V   | GCC A   | GAC D   | GGC G   | C\n",
      "G | GTA V   | GCA A   | GAA E   | GGA G   | A\n",
      "G | GTG V   | GCG A   | GAG E   | GGG G   | G\n",
      "--+---------+---------+---------+---------+--\n"
     ]
    }
   ],
   "source": [
    "print(CodonTable.unambiguous_dna_by_id[1])"
   ]
  },
  {
   "cell_type": "code",
   "execution_count": null,
   "metadata": {},
   "outputs": [],
   "source": []
  },
  {
   "cell_type": "code",
   "execution_count": 30,
   "metadata": {},
   "outputs": [
    {
     "name": "stderr",
     "output_type": "stream",
     "text": [
      "/home/rhyme/.local/lib/python3.6/site-packages/Bio/Seq.py:2742: BiopythonWarning: Partial codon, len(sequence) not a multiple of three. Explicitly trim the sequence or add trailing N before translation. This may become an error in future.\n",
      "  BiopythonWarning,\n"
     ]
    },
    {
     "data": {
      "text/plain": [
       "Seq('IKGLYLPR*Q', HasStopCodon(ExtendedIUPACProtein(), '*'))"
      ]
     },
     "execution_count": 30,
     "metadata": {},
     "output_type": "execute_result"
    }
   ],
   "source": [
    "protein_seq = seq_from_file.translate()\n",
    "protein_seq[:10]"
   ]
  },
  {
   "cell_type": "code",
   "execution_count": 31,
   "metadata": {
    "scrolled": true
   },
   "outputs": [
    {
     "data": {
      "text/plain": [
       "9967"
      ]
     },
     "execution_count": 31,
     "metadata": {},
     "output_type": "execute_result"
    }
   ],
   "source": [
    "len(protein_seq)"
   ]
  },
  {
   "cell_type": "code",
   "execution_count": 32,
   "metadata": {},
   "outputs": [
    {
     "data": {
      "text/plain": [
       "29903"
      ]
     },
     "execution_count": 32,
     "metadata": {},
     "output_type": "execute_result"
    }
   ],
   "source": [
    "len(seq_from_file)"
   ]
  },
  {
   "cell_type": "code",
   "execution_count": null,
   "metadata": {},
   "outputs": [],
   "source": []
  },
  {
   "cell_type": "code",
   "execution_count": null,
   "metadata": {},
   "outputs": [],
   "source": []
  },
  {
   "cell_type": "markdown",
   "metadata": {},
   "source": [
    "### Can protein sequences be reverse translated ?\n",
    "<div class=\"alert alert-block alert-info\">\n",
    "<b>Note</b> : there is no function called `back_translate` so we'll make use of `back_transcribe`.\n",
    "</div>"
   ]
  },
  {
   "cell_type": "code",
   "execution_count": 33,
   "metadata": {},
   "outputs": [
    {
     "ename": "ValueError",
     "evalue": "Proteins cannot be back transcribed!",
     "output_type": "error",
     "traceback": [
      "\u001b[0;31m---------------------------------------------------------------------------\u001b[0m",
      "\u001b[0;31mValueError\u001b[0m                                Traceback (most recent call last)",
      "\u001b[0;32m<ipython-input-33-5d8893dac5a5>\u001b[0m in \u001b[0;36m<module>\u001b[0;34m\u001b[0m\n\u001b[0;32m----> 1\u001b[0;31m \u001b[0mprotein_seq\u001b[0m\u001b[0;34m.\u001b[0m\u001b[0mback_transcribe\u001b[0m\u001b[0;34m(\u001b[0m\u001b[0;34m)\u001b[0m\u001b[0;34m\u001b[0m\u001b[0;34m\u001b[0m\u001b[0m\n\u001b[0m",
      "\u001b[0;32m~/.local/lib/python3.6/site-packages/Bio/Seq.py\u001b[0m in \u001b[0;36mback_transcribe\u001b[0;34m(self)\u001b[0m\n\u001b[1;32m   1056\u001b[0m         \u001b[0mbase\u001b[0m \u001b[0;34m=\u001b[0m \u001b[0mAlphabet\u001b[0m\u001b[0;34m.\u001b[0m\u001b[0m_get_base_alphabet\u001b[0m\u001b[0;34m(\u001b[0m\u001b[0mself\u001b[0m\u001b[0;34m.\u001b[0m\u001b[0malphabet\u001b[0m\u001b[0;34m)\u001b[0m\u001b[0;34m\u001b[0m\u001b[0;34m\u001b[0m\u001b[0m\n\u001b[1;32m   1057\u001b[0m         \u001b[0;32mif\u001b[0m \u001b[0misinstance\u001b[0m\u001b[0;34m(\u001b[0m\u001b[0mbase\u001b[0m\u001b[0;34m,\u001b[0m \u001b[0mAlphabet\u001b[0m\u001b[0;34m.\u001b[0m\u001b[0mProteinAlphabet\u001b[0m\u001b[0;34m)\u001b[0m\u001b[0;34m:\u001b[0m\u001b[0;34m\u001b[0m\u001b[0;34m\u001b[0m\u001b[0m\n\u001b[0;32m-> 1058\u001b[0;31m             \u001b[0;32mraise\u001b[0m \u001b[0mValueError\u001b[0m\u001b[0;34m(\u001b[0m\u001b[0;34m\"Proteins cannot be back transcribed!\"\u001b[0m\u001b[0;34m)\u001b[0m\u001b[0;34m\u001b[0m\u001b[0;34m\u001b[0m\u001b[0m\n\u001b[0m\u001b[1;32m   1059\u001b[0m         \u001b[0;32mif\u001b[0m \u001b[0misinstance\u001b[0m\u001b[0;34m(\u001b[0m\u001b[0mbase\u001b[0m\u001b[0;34m,\u001b[0m \u001b[0mAlphabet\u001b[0m\u001b[0;34m.\u001b[0m\u001b[0mDNAAlphabet\u001b[0m\u001b[0;34m)\u001b[0m\u001b[0;34m:\u001b[0m\u001b[0;34m\u001b[0m\u001b[0;34m\u001b[0m\u001b[0m\n\u001b[1;32m   1060\u001b[0m             \u001b[0;32mraise\u001b[0m \u001b[0mValueError\u001b[0m\u001b[0;34m(\u001b[0m\u001b[0;34m\"DNA cannot be back transcribed!\"\u001b[0m\u001b[0;34m)\u001b[0m\u001b[0;34m\u001b[0m\u001b[0;34m\u001b[0m\u001b[0m\n",
      "\u001b[0;31mValueError\u001b[0m: Proteins cannot be back transcribed!"
     ]
    }
   ],
   "source": [
    "protein_seq.back_transcribe()"
   ]
  },
  {
   "cell_type": "code",
   "execution_count": null,
   "metadata": {},
   "outputs": [],
   "source": []
  },
  {
   "cell_type": "code",
   "execution_count": null,
   "metadata": {
    "scrolled": true
   },
   "outputs": [],
   "source": []
  },
  {
   "cell_type": "markdown",
   "metadata": {},
   "source": [
    "### This error is true for all the biological life too...\n",
    "<div class=\"alert alert-block alert-warning\">\n",
    "- we can't perform an exact \"reverse translation\" of course, since several amino acids are produced by the same codon.\n",
    "</div>"
   ]
  },
  {
   "cell_type": "code",
   "execution_count": 34,
   "metadata": {},
   "outputs": [
    {
     "name": "stdout",
     "output_type": "stream",
     "text": [
      "Table 1 Standard, SGC0\n",
      "\n",
      "  |  T      |  C      |  A      |  G      |\n",
      "--+---------+---------+---------+---------+--\n",
      "T | TTT F   | TCT S   | TAT Y   | TGT C   | T\n",
      "T | TTC F   | TCC S   | TAC Y   | TGC C   | C\n",
      "T | TTA L   | TCA S   | TAA Stop| TGA Stop| A\n",
      "T | TTG L(s)| TCG S   | TAG Stop| TGG W   | G\n",
      "--+---------+---------+---------+---------+--\n",
      "C | CTT L   | CCT P   | CAT H   | CGT R   | T\n",
      "C | CTC L   | CCC P   | CAC H   | CGC R   | C\n",
      "C | CTA L   | CCA P   | CAA Q   | CGA R   | A\n",
      "C | CTG L(s)| CCG P   | CAG Q   | CGG R   | G\n",
      "--+---------+---------+---------+---------+--\n",
      "A | ATT I   | ACT T   | AAT N   | AGT S   | T\n",
      "A | ATC I   | ACC T   | AAC N   | AGC S   | C\n",
      "A | ATA I   | ACA T   | AAA K   | AGA R   | A\n",
      "A | ATG M(s)| ACG T   | AAG K   | AGG R   | G\n",
      "--+---------+---------+---------+---------+--\n",
      "G | GTT V   | GCT A   | GAT D   | GGT G   | T\n",
      "G | GTC V   | GCC A   | GAC D   | GGC G   | C\n",
      "G | GTA V   | GCA A   | GAA E   | GGA G   | A\n",
      "G | GTG V   | GCG A   | GAG E   | GGG G   | G\n",
      "--+---------+---------+---------+---------+--\n"
     ]
    }
   ],
   "source": [
    "print(CodonTable.unambiguous_dna_by_id[1])"
   ]
  },
  {
   "cell_type": "code",
   "execution_count": 35,
   "metadata": {
    "scrolled": true
   },
   "outputs": [
    {
     "data": {
      "text/plain": [
       "[('L', 886),\n",
       " ('S', 810),\n",
       " ('*', 774),\n",
       " ('T', 679),\n",
       " ('C', 635),\n",
       " ('F', 593),\n",
       " ('R', 558),\n",
       " ('V', 548),\n",
       " ('Y', 505),\n",
       " ('N', 472)]"
      ]
     },
     "execution_count": 35,
     "metadata": {},
     "output_type": "execute_result"
    }
   ],
   "source": [
    "# Listing the most common amino acids\n",
    "common_amino = Counter(protein_seq)\n",
    "common_amino.most_common(10)"
   ]
  },
  {
   "cell_type": "code",
   "execution_count": null,
   "metadata": {},
   "outputs": [],
   "source": []
  },
  {
   "cell_type": "code",
   "execution_count": 37,
   "metadata": {},
   "outputs": [
    {
     "data": {
      "text/plain": [
       "Text(0, 0.5, 'frequency')"
      ]
     },
     "execution_count": 37,
     "metadata": {},
     "output_type": "execute_result"
    },
    {
     "data": {
      "image/png": "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\n",
      "text/plain": [
       "<Figure size 432x288 with 1 Axes>"
      ]
     },
     "metadata": {
      "needs_background": "light"
     },
     "output_type": "display_data"
    }
   ],
   "source": [
    "# visualize all 20 amino acid occurrences in the form of a histogram\n",
    "del common_amino['*']\n",
    "\n",
    "pylab.bar(common_amino.keys(), common_amino.values())\n",
    "pylab.title('Protein Sequence Frequency')\n",
    "pylab.xlabel('amino acids')\n",
    "pylab.ylabel('frequency')"
   ]
  },
  {
   "cell_type": "code",
   "execution_count": null,
   "metadata": {},
   "outputs": [],
   "source": []
  },
  {
   "cell_type": "markdown",
   "metadata": {},
   "source": [
    "### Since stop codon * signifies end of a protein we can split the sequence using ( * )"
   ]
  },
  {
   "cell_type": "code",
   "execution_count": 39,
   "metadata": {},
   "outputs": [
    {
     "data": {
      "text/plain": [
       "['IKGLYLPR',\n",
       " 'QTNQLSISCRSVL',\n",
       " 'TNFKICVAVTRLHA',\n",
       " 'CTHAV',\n",
       " 'LITNYCR',\n",
       " 'QDTSNSSIFCRLLTVSSVLQPIISTSRFRPGVTER',\n",
       " 'DGEPCPWFQRENTRPTQFACFTGSRRARTWLWRLRGGGLIRGTSTS',\n",
       " 'RWHLWLSRS',\n",
       " 'KRRFAST',\n",
       " 'TALCVHQTFGCSNCTSWSCYG']"
      ]
     },
     "execution_count": 39,
     "metadata": {},
     "output_type": "execute_result"
    }
   ],
   "source": [
    "protein_list = [str(i) for i in protein_seq.split('*')]\n",
    "protein_list[:10]"
   ]
  },
  {
   "cell_type": "code",
   "execution_count": null,
   "metadata": {},
   "outputs": [],
   "source": []
  },
  {
   "cell_type": "code",
   "execution_count": 40,
   "metadata": {},
   "outputs": [],
   "source": [
    "# convert sequences to dataframe\n",
    "large_proteins = [x for x in protein_list if len(x) > 10]\n",
    "df = pd.DataFrame({'protein_seq':large_proteins})"
   ]
  },
  {
   "cell_type": "code",
   "execution_count": 42,
   "metadata": {},
   "outputs": [
    {
     "data": {
      "text/html": [
       "<div>\n",
       "<style scoped>\n",
       "    .dataframe tbody tr th:only-of-type {\n",
       "        vertical-align: middle;\n",
       "    }\n",
       "\n",
       "    .dataframe tbody tr th {\n",
       "        vertical-align: top;\n",
       "    }\n",
       "\n",
       "    .dataframe thead th {\n",
       "        text-align: right;\n",
       "    }\n",
       "</style>\n",
       "<table border=\"1\" class=\"dataframe\">\n",
       "  <thead>\n",
       "    <tr style=\"text-align: right;\">\n",
       "      <th></th>\n",
       "      <th>protein_seq</th>\n",
       "      <th>length</th>\n",
       "    </tr>\n",
       "  </thead>\n",
       "  <tbody>\n",
       "    <tr>\n",
       "      <th>0</th>\n",
       "      <td>QTNQLSISCRSVL</td>\n",
       "      <td>13</td>\n",
       "    </tr>\n",
       "    <tr>\n",
       "      <th>1</th>\n",
       "      <td>TNFKICVAVTRLHA</td>\n",
       "      <td>14</td>\n",
       "    </tr>\n",
       "    <tr>\n",
       "      <th>2</th>\n",
       "      <td>QDTSNSSIFCRLLTVSSVLQPIISTSRFRPGVTER</td>\n",
       "      <td>35</td>\n",
       "    </tr>\n",
       "    <tr>\n",
       "      <th>3</th>\n",
       "      <td>DGEPCPWFQRENTRPTQFACFTGSRRARTWLWRLRGGGLIRGTSTS</td>\n",
       "      <td>46</td>\n",
       "    </tr>\n",
       "    <tr>\n",
       "      <th>4</th>\n",
       "      <td>TALCVHQTFGCSNCTSWSCYG</td>\n",
       "      <td>21</td>\n",
       "    </tr>\n",
       "  </tbody>\n",
       "</table>\n",
       "</div>"
      ],
      "text/plain": [
       "                                      protein_seq  length\n",
       "0                                   QTNQLSISCRSVL      13\n",
       "1                                  TNFKICVAVTRLHA      14\n",
       "2             QDTSNSSIFCRLLTVSSVLQPIISTSRFRPGVTER      35\n",
       "3  DGEPCPWFQRENTRPTQFACFTGSRRARTWLWRLRGGGLIRGTSTS      46\n",
       "4                           TALCVHQTFGCSNCTSWSCYG      21"
      ]
     },
     "execution_count": 42,
     "metadata": {},
     "output_type": "execute_result"
    }
   ],
   "source": [
    "# Add a column with sequence lengths\n",
    "df['length'] = df['protein_seq'].apply(len)\n",
    "df.head()"
   ]
  },
  {
   "cell_type": "code",
   "execution_count": 43,
   "metadata": {},
   "outputs": [
    {
     "data": {
      "text/html": [
       "<div>\n",
       "<style scoped>\n",
       "    .dataframe tbody tr th:only-of-type {\n",
       "        vertical-align: middle;\n",
       "    }\n",
       "\n",
       "    .dataframe tbody tr th {\n",
       "        vertical-align: top;\n",
       "    }\n",
       "\n",
       "    .dataframe thead th {\n",
       "        text-align: right;\n",
       "    }\n",
       "</style>\n",
       "<table border=\"1\" class=\"dataframe\">\n",
       "  <thead>\n",
       "    <tr style=\"text-align: right;\">\n",
       "      <th></th>\n",
       "      <th>protein_seq</th>\n",
       "      <th>length</th>\n",
       "    </tr>\n",
       "  </thead>\n",
       "  <tbody>\n",
       "    <tr>\n",
       "      <th>118</th>\n",
       "      <td>CTIVFKRVCGVSAARLTPCGTGTSTDVVYRAFDIYNDKVAGFAKFL...</td>\n",
       "      <td>2701</td>\n",
       "    </tr>\n",
       "    <tr>\n",
       "      <th>157</th>\n",
       "      <td>ASAQRSQITLHINELMDLFMRIFTIGTVTLKQGEIKDATPSDFVRA...</td>\n",
       "      <td>290</td>\n",
       "    </tr>\n",
       "    <tr>\n",
       "      <th>168</th>\n",
       "      <td>TNMKIILFLALITLATCELYHYQECVRGTTVLLKEPCSSGTYEGNS...</td>\n",
       "      <td>123</td>\n",
       "    </tr>\n",
       "    <tr>\n",
       "      <th>158</th>\n",
       "      <td>AQADEYELMYSFVSEETGTLIVNSVLLFLAFVVFLLVTLAILTALR...</td>\n",
       "      <td>83</td>\n",
       "    </tr>\n",
       "    <tr>\n",
       "      <th>167</th>\n",
       "      <td>QQMFHLVDFQVTIAEILLIIMRTFKVSIWNLDYIINLIIKNLSKSL...</td>\n",
       "      <td>63</td>\n",
       "    </tr>\n",
       "    <tr>\n",
       "      <th>3</th>\n",
       "      <td>DGEPCPWFQRENTRPTQFACFTGSRRARTWLWRLRGGGLIRGTSTS</td>\n",
       "      <td>46</td>\n",
       "    </tr>\n",
       "    <tr>\n",
       "      <th>93</th>\n",
       "      <td>TMLRCYFPKCSEKNNQGYTPLVVTHNFDFTFSFSPEYSMVFVLFFV</td>\n",
       "      <td>46</td>\n",
       "    </tr>\n",
       "    <tr>\n",
       "      <th>188</th>\n",
       "      <td>KSHHIFTEATRSTIECTVNNARESCLYGRALMCKINFSSAIPM</td>\n",
       "      <td>43</td>\n",
       "    </tr>\n",
       "    <tr>\n",
       "      <th>116</th>\n",
       "      <td>DVVYTHWYWSGNNSYTGSQYGSRILWWCIVLSVLPLPHRSSKS</td>\n",
       "      <td>43</td>\n",
       "    </tr>\n",
       "    <tr>\n",
       "      <th>182</th>\n",
       "      <td>LQTLAANCTICPQRFSVLRNVAHWHGSHTFGNVVDLHRCHQIG</td>\n",
       "      <td>43</td>\n",
       "    </tr>\n",
       "  </tbody>\n",
       "</table>\n",
       "</div>"
      ],
      "text/plain": [
       "                                           protein_seq  length\n",
       "118  CTIVFKRVCGVSAARLTPCGTGTSTDVVYRAFDIYNDKVAGFAKFL...    2701\n",
       "157  ASAQRSQITLHINELMDLFMRIFTIGTVTLKQGEIKDATPSDFVRA...     290\n",
       "168  TNMKIILFLALITLATCELYHYQECVRGTTVLLKEPCSSGTYEGNS...     123\n",
       "158  AQADEYELMYSFVSEETGTLIVNSVLLFLAFVVFLLVTLAILTALR...      83\n",
       "167  QQMFHLVDFQVTIAEILLIIMRTFKVSIWNLDYIINLIIKNLSKSL...      63\n",
       "3       DGEPCPWFQRENTRPTQFACFTGSRRARTWLWRLRGGGLIRGTSTS      46\n",
       "93      TMLRCYFPKCSEKNNQGYTPLVVTHNFDFTFSFSPEYSMVFVLFFV      46\n",
       "188        KSHHIFTEATRSTIECTVNNARESCLYGRALMCKINFSSAIPM      43\n",
       "116        DVVYTHWYWSGNNSYTGSQYGSRILWWCIVLSVLPLPHRSSKS      43\n",
       "182        LQTLAANCTICPQRFSVLRNVAHWHGSHTFGNVVDLHRCHQIG      43"
      ]
     },
     "execution_count": 43,
     "metadata": {},
     "output_type": "execute_result"
    }
   ],
   "source": [
    "# sort sequence data\n",
    "df.sort_values(by = ['length'], ascending = False)[:10]"
   ]
  },
  {
   "cell_type": "code",
   "execution_count": null,
   "metadata": {},
   "outputs": [],
   "source": []
  },
  {
   "cell_type": "code",
   "execution_count": 44,
   "metadata": {
    "scrolled": true
   },
   "outputs": [
    {
     "data": {
      "text/plain": [
       "'CTIVFKRVCGVSAARLTPCGTGTSTDVVYRAFDIYNDKVAGFAKFLKTNCCRFQEKDEDDNLIDSYFVVKRHTFSNYQHEETIYNLLKDCPAVAKHDFFKFRIDGDMVPHISRQRLTKYTMADLVYALRHFDEGNCDTLKEILVTYNCCDDDYFNKKDWYDFVENPDILRVYANLGERVRQALLKTVQFCDAMRNAGIVGVLTLDNQDLNGNWYDFGDFIQTTPGSGVPVVDSYYSLLMPILTLTRALTAESHVDTDLTKPYIKWDLLKYDFTEERLKLFDRYFKYWDQTYHPNCVNCLDDRCILHCANFNVLFSTVFPPTSFGPLVRKIFVDGVPFVVSTGYHFRELGVVHNQDVNLHSSRLSFKELLVYAADPAMHAASGNLLLDKRTTCFSVAALTNNVAFQTVKPGNFNKDFYDFAVSKGFFKEGSSVELKHFFFAQDGNAAISDYDYYRYNLPTMCDIRQLLFVVEVVDKYFDCYDGGCINANQVIVNNLDKSAGFPFNKWGKARLYYDSMSYEDQDALFAYTKRNVIPTITQMNLKYAISAKNRARTVAGVSICSTMTNRQFHQKLLKSIAATRGATVVIGTSKFYGGWHNMLKTVYSDVENPHLMGWDYPKCDRAMPNMLRIMASLVLARKHTTCCSLSHRFYRLANECAQVLSEMVMCGGSLYVKPGGTSSGDATTAYANSVFNICQAVTANVNALLSTDGNKIADKYVRNLQHRLYECLYRNRDVDTDFVNEFYAYLRKHFSMMILSDDAVVCFNSTYASQGLVASIKNFKSVLYYQNNVFMSEAKCWTETDLTKGPHEFCSQHTMLVKQGDDYVYLPYPDPSRILGAGCFVDDIVKTDGTLMIERFVSLAIDAYPLTKHPNQEYADVFHLYLQYIRKLHDELTGHMLDMYSVMLTNDNTSRYWEPEFYEAMYTPHTVLQAVGACVLCNSQTSLRCGACIRRPFLCCKCCYDHVISTSHKLVLSVNPYVCNAPGCDVTDVTQLYLGGMSYYCKSHKPPISFPLCANGQVFGLYKNTCVGSDNVTDFNAIATCDWTNAGDYILANTCTERLKLFAAETLKATEETFKLSYGIATVREVLSDRELHLSWEVGKPRPPLNRNYVFTGYRVTKNSKVQIGEYTFEKGDYGDAVVYRGTTTYKLNVGDYFVLTSHTVMPLSAPTLVPQEHYVRITGLYPTLNISDEFSSNVANYQKVGMQKYSTLQGPPGTGKSHFAIGLALYYPSARIVYTACSHAAVDALCEKALKYLPIDKCSRIIPARARVECFDKFKVNSTLEQYVFCTVNALPETTADIVVFDEISMATNYDLSVVNARLRAKHYVYIGDPAQLPAPRTLLTKGTLEPEYFNSVCRLMKTIGPDMFLGTCRRCPAEIVDTVSALVYDNKLKAHKDKSAQCFKMFYKGVITHDVSSAINRPQIGVVREFLTRNPAWRKAVFISPYNSQNAVASKILGLPTQTVDSSQGSEYDYVIFTQTTETAHSCNVNRFNVAITRAKVGILCIMSDRDLYDKLQFTSLEIPRRNVATLQAENVTGLFKDCSKVITGLHPTQAPTHLSVDTKFKTEGLCVDIPGIPKDMTYRRLISMMGFKMNYQVNGYPNMFITREEAIRHVRAWIGFDVEGCHATREAVGTNLPLQLGFSTGVNLVAVPTGYVDTPNNTDFSRVSAKPPPGDQFKHLIPLMYKGLPWNVVRIKIVQMLSDTLKNLSDRVVFVLWAHGFELTSMKYFVKIGPERTCCLCDRRATCFSTASDTYACWHHSIGFDYVYNPFMIDVQQWGFTGNLQSNHDLYCQVHGNAHVASCDAIMTRCLAVHECFVKRVDWTIEYPIIGDELKINAACRKVQHMVVKAALLADKFPVLHDIGNPKAIKCVPQADVEWKFYDAQPCSDKAYKIEELFYSYATHSDKFTDGVCLFWNCNVDRYPANSIVCRFDTRVLSNLNLPGCDGGSLYVNKHAFHTPAFDKSAFVNLKQLPFFYYSDSPCESHGKQVVSDIDYVPLKSATCITRCNLGGAVCRHHANEYRLYLDAYNMMISAGFSLWVYKQFDTYNLWNTFTRLQSLENVAFNVVNKGHFDGQQGEVPVSIINNTVYTKVDGVDVELFENKTTLPVNVAFELWAKRNIKPVPEVKILNNLGVDIAANTVIWDYKRDAPAHISTIGVCSMTDIAKKPTETICAPLTVFFDGRVDGQVDLFRNARNGVLITEGSVKGLQPSVGPKQASLNGVTLIGEAVKTQFNYYKKVDGVVQQLPETYFTQSRNLQEFKPRSQMEIDFLELAMDEFIERYKLEGYAFEHIVYGDFSHSQLGGLHLLIGLAKRFKESPFELEDFIPMDSTVKNYFITDAQTGSSKCVCSVIDLLLDDFVEIIKSQDLSVVSKVVKVTIDYTEISFMLWCKDGHVETFYPKLQSSQAWQPGVAMPNLYKMQRMLLEKCDLQNYGDSATLPKGIMMNVAKYTQLCQYLNTLTLAVPYNMRVIHFGAGSDKGVAPGTAVLRQWLPTGTLLVDSDLNDFVSDADSTLIGDCATVHTANKWDLIISDMYDPKTKNVTKENDSKEGFFTYICGFIQQKLALGGSVAIKITEHSWNADLYKLMGHFAWWTAFVTNVNASSSEAFLIGCNYLGKPREQIDGYVMHANYIFWRNTNPIQLSSYSLFDMSKFPLKLRGTAVMSLKEGQINDMILSLLSKGRLIIRENNRVVISSDVLVNN'"
      ]
     },
     "execution_count": 44,
     "metadata": {},
     "output_type": "execute_result"
    }
   ],
   "source": [
    "# let's take a single protein from the table\n",
    "one_large_protein = df.nlargest(1, 'length')\n",
    "single_protein = one_large_protein.iloc[0,0]\n",
    "single_protein\n"
   ]
  },
  {
   "cell_type": "code",
   "execution_count": 49,
   "metadata": {},
   "outputs": [],
   "source": [
    "# write to a file\n",
    "\n",
    "with open('Sequence_data/single_protein.fasta', 'w') as file:\n",
    "    file.write('>large protein\\n' + single_protein)"
   ]
  },
  {
   "cell_type": "code",
   "execution_count": null,
   "metadata": {},
   "outputs": [],
   "source": []
  },
  {
   "cell_type": "markdown",
   "metadata": {},
   "source": [
    "## 5. Basic Local Alignment Using NCBI-BLAST"
   ]
  },
  {
   "cell_type": "code",
   "execution_count": null,
   "metadata": {},
   "outputs": [],
   "source": [
    "# Read single_seq.fasta\n",
    "\n"
   ]
  },
  {
   "cell_type": "code",
   "execution_count": null,
   "metadata": {},
   "outputs": [],
   "source": []
  },
  {
   "cell_type": "code",
   "execution_count": null,
   "metadata": {},
   "outputs": [],
   "source": [
    "\n",
    "\n",
    "# based on the server load this query might take 2-3 minutes to run\n",
    "\n"
   ]
  },
  {
   "cell_type": "code",
   "execution_count": null,
   "metadata": {},
   "outputs": [],
   "source": []
  },
  {
   "cell_type": "code",
   "execution_count": null,
   "metadata": {},
   "outputs": [],
   "source": []
  },
  {
   "cell_type": "code",
   "execution_count": null,
   "metadata": {},
   "outputs": [],
   "source": [
    "#fetch the id, description, evalue, bitscore & alignment of first hit\n",
    "\n",
    "seqid = \n",
    "\n",
    "details = \n",
    "\n",
    "print(f\"\\\n",
    "Sequence ID:{seqid.id}\\n\\\n",
    "description:{seqid.description}\\n\\\n",
    "E value:    {details.evalue} \\n\\\n",
    "Bit Score:  {details.bitscore}\\n\\\n",
    "\")"
   ]
  },
  {
   "cell_type": "code",
   "execution_count": null,
   "metadata": {
    "scrolled": true
   },
   "outputs": [],
   "source": [
    "print(f\"alignment:\\n{details.aln}\")"
   ]
  },
  {
   "cell_type": "code",
   "execution_count": null,
   "metadata": {},
   "outputs": [],
   "source": []
  },
  {
   "cell_type": "markdown",
   "metadata": {},
   "source": [
    "## 6. Reading PDB file"
   ]
  },
  {
   "cell_type": "markdown",
   "metadata": {},
   "source": [
    "### Retreiving PDB Structure From RCSB PDB"
   ]
  },
  {
   "cell_type": "code",
   "execution_count": null,
   "metadata": {},
   "outputs": [],
   "source": []
  },
  {
   "cell_type": "code",
   "execution_count": null,
   "metadata": {},
   "outputs": [],
   "source": [
    "# split seqid\n",
    "\n"
   ]
  },
  {
   "cell_type": "code",
   "execution_count": null,
   "metadata": {},
   "outputs": [],
   "source": [
    "# link format https://files.rcsb.org/download/6YYT.pdb\n",
    "\n"
   ]
  },
  {
   "cell_type": "code",
   "execution_count": null,
   "metadata": {},
   "outputs": [],
   "source": []
  },
  {
   "cell_type": "markdown",
   "metadata": {},
   "source": [
    "### 6.1 Reading PDB file"
   ]
  },
  {
   "cell_type": "code",
   "execution_count": null,
   "metadata": {},
   "outputs": [],
   "source": []
  },
  {
   "cell_type": "markdown",
   "metadata": {},
   "source": [
    "### 6.2 Identifying the number of chains"
   ]
  },
  {
   "cell_type": "code",
   "execution_count": null,
   "metadata": {
    "scrolled": true
   },
   "outputs": [],
   "source": []
  },
  {
   "cell_type": "code",
   "execution_count": null,
   "metadata": {},
   "outputs": [],
   "source": []
  },
  {
   "cell_type": "code",
   "execution_count": null,
   "metadata": {},
   "outputs": [],
   "source": []
  },
  {
   "cell_type": "markdown",
   "metadata": {},
   "source": [
    "## 7. Visualizing SARS-CoV-19 Protein structure"
   ]
  },
  {
   "cell_type": "markdown",
   "metadata": {},
   "source": [
    "### 7.1. nglview"
   ]
  },
  {
   "cell_type": "code",
   "execution_count": null,
   "metadata": {
    "scrolled": true
   },
   "outputs": [],
   "source": [
    "nv.demo()"
   ]
  },
  {
   "cell_type": "code",
   "execution_count": null,
   "metadata": {},
   "outputs": [],
   "source": []
  },
  {
   "cell_type": "code",
   "execution_count": null,
   "metadata": {},
   "outputs": [],
   "source": []
  },
  {
   "cell_type": "code",
   "execution_count": null,
   "metadata": {},
   "outputs": [],
   "source": []
  },
  {
   "cell_type": "markdown",
   "metadata": {},
   "source": [
    "### 7.2. nglview GUI"
   ]
  },
  {
   "cell_type": "code",
   "execution_count": null,
   "metadata": {},
   "outputs": [],
   "source": [
    "#GUI\n"
   ]
  },
  {
   "cell_type": "code",
   "execution_count": null,
   "metadata": {
    "scrolled": true
   },
   "outputs": [],
   "source": []
  },
  {
   "cell_type": "markdown",
   "metadata": {},
   "source": [
    "## Observation:<br>\n",
    "<div style=\"Font-size:16px\">\n",
    "A. Length 29903 base pairs<br>\n",
    "B. GC content 37.97<br>\n",
    "C. Protein content has high L & the largest protein is of length 2701 Amino acid<br>\n",
    "D. Largest protein BLAST results corresponds to <b>SARS-CoV-19</b> 6YYT <br>\n",
    "E. Protein 6YYT has 8 chains & a DNA binding domain<br>\n",
    "</div>"
   ]
  },
  {
   "cell_type": "markdown",
   "metadata": {},
   "source": [
    "## Further Reading\n",
    "1. [**Transcription & Translation**](https://www.nature.com/scitable/topicpage/translation-dna-to-mrna-to-protein-393/)\n",
    "2. [**Biopython Tutorial and Cookbook**](http://biopython.org/DIST/docs/tutorial/Tutorial.html)"
   ]
  }
 ],
 "metadata": {
  "kernelspec": {
   "display_name": "Python 3",
   "language": "python",
   "name": "python3"
  },
  "language_info": {
   "codemirror_mode": {
    "name": "ipython",
    "version": 3
   },
   "file_extension": ".py",
   "mimetype": "text/x-python",
   "name": "python",
   "nbconvert_exporter": "python",
   "pygments_lexer": "ipython3",
   "version": "3.6.9"
  }
 },
 "nbformat": 4,
 "nbformat_minor": 4
}
